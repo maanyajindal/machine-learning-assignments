{
 "cells": [
  {
   "cell_type": "code",
   "execution_count": 15,
   "id": "5472494f-6839-4dac-9957-bdbb2057217f",
   "metadata": {},
   "outputs": [
    {
     "name": "stdout",
     "output_type": "stream",
     "text": [
      "      Id  SepalLengthCm  SepalWidthCm  PetalLengthCm  PetalWidthCm  \\\n",
      "0      1            5.1           3.5            1.4           0.2   \n",
      "1      2            4.9           3.0            1.4           0.2   \n",
      "2      3            4.7           3.2            1.3           0.2   \n",
      "3      4            4.6           3.1            1.5           0.2   \n",
      "4      5            5.0           3.6            1.4           0.2   \n",
      "..   ...            ...           ...            ...           ...   \n",
      "145  146            6.7           3.0            5.2           2.3   \n",
      "146  147            6.3           2.5            5.0           1.9   \n",
      "147  148            6.5           3.0            5.2           2.0   \n",
      "148  149            6.2           3.4            5.4           2.3   \n",
      "149  150            5.9           3.0            5.1           1.8   \n",
      "\n",
      "            Species  \n",
      "0       Iris-setosa  \n",
      "1       Iris-setosa  \n",
      "2       Iris-setosa  \n",
      "3       Iris-setosa  \n",
      "4       Iris-setosa  \n",
      "..              ...  \n",
      "145  Iris-virginica  \n",
      "146  Iris-virginica  \n",
      "147  Iris-virginica  \n",
      "148  Iris-virginica  \n",
      "149  Iris-virginica  \n",
      "\n",
      "[150 rows x 6 columns]\n",
      "hello\n",
      "   Id  SepalLengthCm  SepalWidthCm  PetalLengthCm  PetalWidthCm      Species\n",
      "0   1            5.1           3.5            1.4           0.2  Iris-setosa\n",
      "1   2            4.9           3.0            1.4           0.2  Iris-setosa\n",
      "2   3            4.7           3.2            1.3           0.2  Iris-setosa\n",
      "3   4            4.6           3.1            1.5           0.2  Iris-setosa\n",
      "4   5            5.0           3.6            1.4           0.2  Iris-setosa\n"
     ]
    }
   ],
   "source": [
    "import pandas as pd\n",
    "df = pd.read_csv(r'C:\\Users\\Dell\\Downloads\\Iris.csv')\n",
    "print(df)\n",
    "print('hello')\n",
    "print(df.head())"
   ]
  },
  {
   "cell_type": "code",
   "execution_count": 5,
   "id": "920bb9b0-45ea-4f8e-b781-aeb45ddc4d6a",
   "metadata": {},
   "outputs": [
    {
     "name": "stdout",
     "output_type": "stream",
     "text": [
      "      Id  SepalLengthCm  PetalLengthCm  PetalWidthCm         Species\n",
      "0      1            5.1            1.4           0.2     Iris-setosa\n",
      "1      2            4.9            1.4           0.2     Iris-setosa\n",
      "2      3            4.7            1.3           0.2     Iris-setosa\n",
      "4      5            5.0            1.4           0.2     Iris-setosa\n",
      "5      6            5.4            1.7           0.4     Iris-setosa\n",
      "..   ...            ...            ...           ...             ...\n",
      "145  146            6.7            5.2           2.3  Iris-virginica\n",
      "146  147            6.3            5.0           1.9  Iris-virginica\n",
      "147  148            6.5            5.2           2.0  Iris-virginica\n",
      "148  149            6.2            5.4           2.3  Iris-virginica\n",
      "149  150            5.9            5.1           1.8  Iris-virginica\n",
      "\n",
      "[149 rows x 5 columns]\n"
     ]
    }
   ],
   "source": [
    "df = df.drop(index=3)\n",
    "df = df.drop(columns=df.columns[2])\n",
    "print(df)"
   ]
  },
  {
   "cell_type": "code",
   "execution_count": 9,
   "id": "9882ce4f-77d5-46b4-974e-1642b66bfc54",
   "metadata": {},
   "outputs": [
    {
     "name": "stdout",
     "output_type": "stream",
     "text": [
      "   Employee_ID     Name Department  Age  Salary  Years_of_Experience  \\\n",
      "0          101   Alice          HR   29   50000                    4   \n",
      "1          102     Bob          IT   34   70000                    8   \n",
      "2          103  Charlie         IT   41   65000                   10   \n",
      "3          104    Diana  Marketing   28   55000                    3   \n",
      "4          105   Edward      Sales   38   60000                   12   \n",
      "\n",
      "  Joining_Date  Gender  Bonus  Rating  \n",
      "0   2020-03-15  Female   5000     4.5  \n",
      "1   2017-07-19    Male   7000     4.0  \n",
      "2   2013-06-01    Male   6000     3.8  \n",
      "3   2021-02-10  Female   4500     4.7  \n",
      "4   2010-11-25    Male   5000     3.5  \n",
      "(5, 10)\n"
     ]
    }
   ],
   "source": [
    "edata = {\n",
    "    'Employee_ID': [101, 102, 103, 104, 105],\n",
    "    'Name': ['Alice ', 'Bob ', 'Charlie', 'Diana', 'Edward'],\n",
    "    'Department': ['HR', 'IT', 'IT', 'Marketing', 'Sales'],\n",
    "    'Age': [29, 34, 41, 28, 38],\n",
    "    'Salary': [50000, 70000, 65000, 55000, 60000],\n",
    "    'Years_of_Experience': [4, 8, 10, 3, 12],\n",
    "    'Joining_Date': ['2020-03-15', '2017-07-19', '2013-06-01', '2021-02-10', '2010-11-25'],\n",
    "    'Gender': ['Female', 'Male', 'Male', 'Female', 'Male'],\n",
    "    'Bonus': [5000, 7000, 6000, 4500, 5000],\n",
    "    'Rating': [4.5, 4.0, 3.8, 4.7, 3.5]\n",
    "}\n",
    "employees_df = pd.DataFrame(edata)\n",
    "print(employees_df)\n",
    "employees_df.to_csv('employees.csv', index=False)\n",
    "\n",
    "# a) Shape of the DataFrame\n",
    "print(employees_df.shape)\n"
   ]
  },
  {
   "cell_type": "code",
   "execution_count": 11,
   "id": "2774ee9e-6f08-481f-817e-aee35bc850bb",
   "metadata": {},
   "outputs": [
    {
     "name": "stdout",
     "output_type": "stream",
     "text": [
      "<class 'pandas.core.frame.DataFrame'>\n",
      "RangeIndex: 5 entries, 0 to 4\n",
      "Data columns (total 10 columns):\n",
      " #   Column               Non-Null Count  Dtype  \n",
      "---  ------               --------------  -----  \n",
      " 0   Employee_ID          5 non-null      int64  \n",
      " 1   Name                 5 non-null      object \n",
      " 2   Department           5 non-null      object \n",
      " 3   Age                  5 non-null      int64  \n",
      " 4   Salary               5 non-null      int64  \n",
      " 5   Years_of_Experience  5 non-null      int64  \n",
      " 6   Joining_Date         5 non-null      object \n",
      " 7   Gender               5 non-null      object \n",
      " 8   Bonus                5 non-null      int64  \n",
      " 9   Rating               5 non-null      float64\n",
      "dtypes: float64(1), int64(5), object(4)\n",
      "memory usage: 532.0+ bytes\n",
      "None\n"
     ]
    }
   ],
   "source": [
    "# b) Summary of the DataFrame\n",
    "print(employees_df.info())"
   ]
  },
  {
   "cell_type": "code",
   "execution_count": 13,
   "id": "85e40683-6ad4-4afe-95b1-79f13214da30",
   "metadata": {},
   "outputs": [
    {
     "name": "stdout",
     "output_type": "stream",
     "text": [
      "       Employee_ID        Age       Salary  Years_of_Experience   Bonus  \\\n",
      "count     5.000000   5.000000      5.00000             5.000000     5.0   \n",
      "mean    103.000000  34.000000  60000.00000             7.400000  5500.0   \n",
      "std       1.581139   5.612486   7905.69415             3.847077  1000.0   \n",
      "min     101.000000  28.000000  50000.00000             3.000000  4500.0   \n",
      "25%     102.000000  29.000000  55000.00000             4.000000  5000.0   \n",
      "50%     103.000000  34.000000  60000.00000             8.000000  5000.0   \n",
      "75%     104.000000  38.000000  65000.00000            10.000000  6000.0   \n",
      "max     105.000000  41.000000  70000.00000            12.000000  7000.0   \n",
      "\n",
      "         Rating  \n",
      "count  5.000000  \n",
      "mean   4.100000  \n",
      "std    0.494975  \n",
      "min    3.500000  \n",
      "25%    3.800000  \n",
      "50%    4.000000  \n",
      "75%    4.500000  \n",
      "max    4.700000  \n"
     ]
    }
   ],
   "source": [
    "# c) Descriptive statistics\n",
    "print(employees_df.describe())"
   ]
  },
  {
   "cell_type": "code",
   "execution_count": 19,
   "id": "181bd921-4581-46ea-9cd4-cc83e12c2f4f",
   "metadata": {},
   "outputs": [
    {
     "name": "stdout",
     "output_type": "stream",
     "text": [
      "   Employee_ID     Name Department  Age  Salary  Years_of_Experience  \\\n",
      "0          101   Alice          HR   29   50000                    4   \n",
      "1          102     Bob          IT   34   70000                    8   \n",
      "2          103  Charlie         IT   41   65000                   10   \n",
      "3          104    Diana  Marketing   28   55000                    3   \n",
      "4          105   Edward      Sales   38   60000                   12   \n",
      "\n",
      "  Joining_Date  Gender  Bonus  Rating  \n",
      "0   2020-03-15  Female   5000     4.5  \n",
      "1   2017-07-19    Male   7000     4.0  \n",
      "2   2013-06-01    Male   6000     3.8  \n",
      "3   2021-02-10  Female   4500     4.7  \n",
      "4   2010-11-25    Male   5000     3.5  \n",
      "   Employee_ID     Name Department  Age  Salary  Years_of_Experience  \\\n",
      "2          103  Charlie         IT   41   65000                   10   \n",
      "3          104    Diana  Marketing   28   55000                    3   \n",
      "4          105   Edward      Sales   38   60000                   12   \n",
      "\n",
      "  Joining_Date  Gender  Bonus  Rating  \n",
      "2   2013-06-01    Male   6000     3.8  \n",
      "3   2021-02-10  Female   4500     4.7  \n",
      "4   2010-11-25    Male   5000     3.5  \n"
     ]
    }
   ],
   "source": [
    "#d) First 5 rows and last 3 rows\n",
    "print(employees_df.head(5))\n",
    "print(employees_df.tail(3))"
   ]
  },
  {
   "cell_type": "code",
   "execution_count": 21,
   "id": "513f36a9-3b78-4c45-967d-585d758985bb",
   "metadata": {},
   "outputs": [
    {
     "name": "stdout",
     "output_type": "stream",
     "text": [
      "60000.0\n",
      "27500\n",
      "28\n",
      "4.7\n"
     ]
    }
   ],
   "source": [
    "# e) Calculate the following statistics from the dataset: \n",
    "print(employees_df['Salary'].mean())\n",
    "print(employees_df['Bonus'].sum())\n",
    "print(employees_df['Age'].min())\n",
    "print(employees_df['Rating'].max())\n"
   ]
  },
  {
   "cell_type": "code",
   "execution_count": 27,
   "id": "539ee23c-64ac-4402-a941-b095816ba641",
   "metadata": {},
   "outputs": [
    {
     "name": "stdout",
     "output_type": "stream",
     "text": [
      "   Employee_ID     Name Department  Age  Salary  Years_of_Experience  \\\n",
      "1          102     Bob          IT   34   70000                    8   \n",
      "2          103  Charlie         IT   41   65000                   10   \n",
      "4          105   Edward      Sales   38   60000                   12   \n",
      "3          104    Diana  Marketing   28   55000                    3   \n",
      "0          101   Alice          HR   29   50000                    4   \n",
      "\n",
      "  Joining_Date  Gender  Bonus  Rating  \n",
      "1   2017-07-19    Male   7000     4.0  \n",
      "2   2013-06-01    Male   6000     3.8  \n",
      "4   2010-11-25    Male   5000     3.5  \n",
      "3   2021-02-10  Female   4500     4.7  \n",
      "0   2020-03-15  Female   5000     4.5  \n"
     ]
    }
   ],
   "source": [
    "SortedDf = employees_df.sort_values(by='Salary', ascending=False)\n",
    "print(SortedDf)\n"
   ]
  },
  {
   "cell_type": "code",
   "execution_count": 29,
   "id": "478f1fac-a448-430b-bd2e-311043ead0f1",
   "metadata": {},
   "outputs": [
    {
     "name": "stdout",
     "output_type": "stream",
     "text": [
      "Employee_ID            0\n",
      "Name                   0\n",
      "Department             0\n",
      "Age                    0\n",
      "Salary                 0\n",
      "Years_of_Experience    0\n",
      "Joining_Date           0\n",
      "Gender                 0\n",
      "Bonus                  0\n",
      "Rating                 0\n",
      "dtype: int64\n"
     ]
    }
   ],
   "source": [
    "#h\n",
    "print( employees_df.isnull().sum())"
   ]
  },
  {
   "cell_type": "code",
   "execution_count": 31,
   "id": "790182b8-307b-45ca-873c-17904b950d3c",
   "metadata": {},
   "outputs": [
    {
     "name": "stdout",
     "output_type": "stream",
     "text": [
      "   Employee_ID     Name Department  Age  Salary  Years_of_Experience  \\\n",
      "0          101   Alice          HR   29   50000                    4   \n",
      "1          102     Bob          IT   34   70000                    8   \n",
      "2          103  Charlie         IT   41   65000                   10   \n",
      "3          104    Diana  Marketing   28   55000                    3   \n",
      "4          105   Edward      Sales   38   60000                   12   \n",
      "\n",
      "  Joining_Date  Gender  Bonus  Rating PerformanceRating  \n",
      "0   2020-03-15  Female   5000     4.5         Excellent  \n",
      "1   2017-07-19    Male   7000     4.0              Good  \n",
      "2   2013-06-01    Male   6000     3.8           Average  \n",
      "3   2021-02-10  Female   4500     4.7         Excellent  \n",
      "4   2010-11-25    Male   5000     3.5           Average  \n"
     ]
    }
   ],
   "source": [
    "#g\n",
    "def categorize_rating(rating):\n",
    "    if rating >= 4.5:\n",
    "        return 'Excellent'\n",
    "    elif (rating >= 4.0 and rating <4.5):\n",
    "        return 'Good'\n",
    "    else:\n",
    "        return 'Average'\n",
    "\n",
    "employees_df['PerformanceRating'] = employees_df['Rating'].apply(categorize_rating)\n",
    "print(employees_df)\n"
   ]
  },
  {
   "cell_type": "code",
   "execution_count": 33,
   "id": "8a1afa09-47b8-4ad6-8432-a6e1ebe13f69",
   "metadata": {},
   "outputs": [
    {
     "name": "stdout",
     "output_type": "stream",
     "text": [
      "    ID     Name Department  Age  Salary  Years_of_Experience Joining_Date  \\\n",
      "0  101   Alice          HR   29   50000                    4   2020-03-15   \n",
      "1  102     Bob          IT   34   70000                    8   2017-07-19   \n",
      "2  103  Charlie         IT   41   65000                   10   2013-06-01   \n",
      "3  104    Diana  Marketing   28   55000                    3   2021-02-10   \n",
      "4  105   Edward      Sales   38   60000                   12   2010-11-25   \n",
      "\n",
      "   Gender  Bonus  Rating PerformanceRating  \n",
      "0  Female   5000     4.5         Excellent  \n",
      "1    Male   7000     4.0              Good  \n",
      "2    Male   6000     3.8           Average  \n",
      "3  Female   4500     4.7         Excellent  \n",
      "4    Male   5000     3.5           Average  \n"
     ]
    }
   ],
   "source": [
    "#i\n",
    "employees_df.rename(columns={'Employee_ID': 'ID'}, inplace=True)\n",
    "print(employees_df)"
   ]
  },
  {
   "cell_type": "code",
   "execution_count": 36,
   "id": "f9a3c923-1f6e-4a02-894c-8fc8b9328db1",
   "metadata": {},
   "outputs": [
    {
     "name": "stdout",
     "output_type": "stream",
     "text": [
      "    ID     Name Department  Age  Salary  Years_of_Experience Joining_Date  \\\n",
      "1  102     Bob          IT   34   70000                    8   2017-07-19   \n",
      "2  103  Charlie         IT   41   65000                   10   2013-06-01   \n",
      "4  105   Edward      Sales   38   60000                   12   2010-11-25   \n",
      "\n",
      "  Gender  Bonus  Rating PerformanceRating  \n",
      "1   Male   7000     4.0              Good  \n",
      "2   Male   6000     3.8           Average  \n",
      "4   Male   5000     3.5           Average  \n",
      "    ID     Name Department  Age  Salary  Years_of_Experience Joining_Date  \\\n",
      "1  102     Bob          IT   34   70000                    8   2017-07-19   \n",
      "2  103  Charlie         IT   41   65000                   10   2013-06-01   \n",
      "\n",
      "  Gender  Bonus  Rating PerformanceRating  \n",
      "1   Male   7000     4.0              Good  \n",
      "2   Male   6000     3.8           Average  \n"
     ]
    }
   ],
   "source": [
    "#j\n",
    "e= employees_df[employees_df['Years_of_Experience'] > 5]\n",
    "i = employees_df[employees_df['Department'] == 'IT']\n",
    "print(e)\n",
    "print(i)\n"
   ]
  },
  {
   "cell_type": "code",
   "execution_count": 38,
   "id": "4174d92d-d327-426c-831b-9a20c5930340",
   "metadata": {},
   "outputs": [
    {
     "name": "stdout",
     "output_type": "stream",
     "text": [
      "    ID     Name Department  Age  Salary  Years_of_Experience Joining_Date  \\\n",
      "0  101   Alice          HR   29   50000                    4   2020-03-15   \n",
      "1  102     Bob          IT   34   70000                    8   2017-07-19   \n",
      "2  103  Charlie         IT   41   65000                   10   2013-06-01   \n",
      "3  104    Diana  Marketing   28   55000                    3   2021-02-10   \n",
      "4  105   Edward      Sales   38   60000                   12   2010-11-25   \n",
      "\n",
      "   Gender  Bonus  Rating PerformanceRating     Tax  \n",
      "0  Female   5000     4.5         Excellent  5000.0  \n",
      "1    Male   7000     4.0              Good  7000.0  \n",
      "2    Male   6000     3.8           Average  6500.0  \n",
      "3  Female   4500     4.7         Excellent  5500.0  \n",
      "4    Male   5000     3.5           Average  6000.0  \n"
     ]
    }
   ],
   "source": [
    "#k\n",
    "employees_df['Tax'] = employees_df['Salary'] * 0.1\n",
    "print(employees_df)\n"
   ]
  },
  {
   "cell_type": "code",
   "execution_count": 40,
   "id": "d4baff07-ac3b-4155-aa77-ab94d16258be",
   "metadata": {},
   "outputs": [],
   "source": [
    "# l\n",
    "employees_df.to_csv(\"modified_employees.csv\", index=False)"
   ]
  },
  {
   "cell_type": "code",
   "execution_count": null,
   "id": "d64d1500-f776-4376-a8cc-ef313ad9f681",
   "metadata": {},
   "outputs": [],
   "source": []
  }
 ],
 "metadata": {
  "kernelspec": {
   "display_name": "Python [conda env:base] *",
   "language": "python",
   "name": "conda-base-py"
  },
  "language_info": {
   "codemirror_mode": {
    "name": "ipython",
    "version": 3
   },
   "file_extension": ".py",
   "mimetype": "text/x-python",
   "name": "python",
   "nbconvert_exporter": "python",
   "pygments_lexer": "ipython3",
   "version": "3.12.7"
  }
 },
 "nbformat": 4,
 "nbformat_minor": 5
}
