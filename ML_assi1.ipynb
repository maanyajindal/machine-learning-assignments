{
 "cells": [
  {
   "cell_type": "code",
   "execution_count": 1,
   "id": "d4a8ed1e-9aea-4abd-956e-3fde485f370b",
   "metadata": {},
   "outputs": [
    {
     "name": "stdout",
     "output_type": "stream",
     "text": [
      "Reversed: [5 4 6 3 2 1]\n"
     ]
    }
   ],
   "source": [
    "import numpy as np\n",
    "arr = np.array([1, 2, 3, 6, 4, 5])\n",
    "print(\"Reversed:\", arr[::-1])\n"
   ]
  },
  {
   "cell_type": "code",
   "execution_count": 3,
   "id": "d39f26db-179e-4f05-9d9f-e133d9329989",
   "metadata": {},
   "outputs": [
    {
     "name": "stdout",
     "output_type": "stream",
     "text": [
      "Flatten with ravel(): [1 2 3 2 4 5 1 2 3]\n",
      "Flatten with flatten(): [1 2 3 2 4 5 1 2 3]\n"
     ]
    }
   ],
   "source": [
    "array1 = np.array([[1, 2, 3], [2, 4, 5], [1, 2, 3]])\n",
    "print(\"Flatten with ravel():\", array1.ravel())\n",
    "print(\"Flatten with flatten():\", array1.flatten())\n"
   ]
  },
  {
   "cell_type": "code",
   "execution_count": 5,
   "id": "b31e14b0-41e8-41eb-b208-4564ce81a67c",
   "metadata": {},
   "outputs": [
    {
     "name": "stdout",
     "output_type": "stream",
     "text": [
      "Arrays are equal: True\n"
     ]
    }
   ],
   "source": [
    "arr1 = np.array([[1, 2], [3, 4]])\n",
    "arr2 = np.array([[1, 2], [3, 4]])\n",
    "print(\"Arrays are equal:\", np.array_equal(arr1, arr2))"
   ]
  },
  {
   "cell_type": "code",
   "execution_count": 9,
   "id": "195f4871-586e-4385-9321-1ecff870a0da",
   "metadata": {},
   "outputs": [],
   "source": [
    "x = np.array([1, 2, 3, 4, 5, 1, 2, 1, 1, 1])\n",
    "y = np.array([1, 1, 1, 2, 3, 4, 2, 4, 3, 3])"
   ]
  },
  {
   "cell_type": "code",
   "execution_count": 11,
   "id": "0b1ddbb5-69d3-4f66-835d-a4abfd22dc91",
   "metadata": {},
   "outputs": [
    {
     "name": "stdout",
     "output_type": "stream",
     "text": [
      "Most frequent in x: (1, array([0, 5, 7, 8, 9], dtype=int64))\n",
      "Most frequent in y: (1, array([0, 1, 2], dtype=int64))\n"
     ]
    }
   ],
   "source": [
    "def most_freq(arr):\n",
    "    vals, counts = np.unique(arr, return_counts=True)\n",
    "    max_count = np.max(counts)\n",
    "    most_val = vals[np.argmax(counts)]\n",
    "    indices = np.where(arr == most_val)[0]\n",
    "    return most_val, indices\n",
    "\n",
    "print(\"Most frequent in x:\", most_freq(x))\n",
    "print(\"Most frequent in y:\", most_freq(y))"
   ]
  },
  {
   "cell_type": "code",
   "execution_count": 13,
   "id": "2dd25b5c-600e-496b-a337-9a2f3e9abade",
   "metadata": {},
   "outputs": [
    {
     "name": "stdout",
     "output_type": "stream",
     "text": [
      "Total sum: 45\n",
      "Row-wise sum: [[14]\n",
      " [16]\n",
      " [15]]\n",
      "Column-wise sum: [[20  9 16]]\n"
     ]
    }
   ],
   "source": [
    "gfg = np.matrix('[4, 1, 9; 12, 3, 1; 4, 5, 6]')\n",
    "print(\"Total sum:\", np.sum(gfg))\n",
    "print(\"Row-wise sum:\", np.sum(gfg, axis=1))\n",
    "print(\"Column-wise sum:\", np.sum(gfg, axis=0))"
   ]
  },
  {
   "cell_type": "code",
   "execution_count": 15,
   "id": "c3425557-02f9-4e2d-9d05-c4304bbd3806",
   "metadata": {},
   "outputs": [
    {
     "name": "stdout",
     "output_type": "stream",
     "text": [
      "Diagonal sum: 176\n",
      "Eigenvalues: [98.16835147 28.097044   49.73460452]\n",
      "Eigenvectors:\n",
      " [[ 0.4574917   0.34637121 -0.15017693]\n",
      " [ 0.28447814 -0.72784061 -0.4852124 ]\n",
      " [ 0.84248058  0.59184038  0.8614034 ]]\n",
      "Inverse:\n",
      " [[ 0.02404141 -0.00911212 -0.00444671]\n",
      " [-0.01667882  0.02966905  0.0024785 ]\n",
      " [ 0.00631287 -0.01603732  0.01217379]]\n",
      "Determinant: 137180.0000000001\n"
     ]
    }
   ],
   "source": [
    "n_array = np.array([[55, 25, 15], [30, 44, 2], [11, 45, 77]])\n",
    "print(\"Diagonal sum:\", np.trace(n_array))\n",
    "eig_vals, eig_vecs = np.linalg.eig(n_array)\n",
    "print(\"Eigenvalues:\", eig_vals)\n",
    "print(\"Eigenvectors:\\n\", eig_vecs)\n",
    "print(\"Inverse:\\n\", np.linalg.inv(n_array))\n",
    "print(\"Determinant:\", np.linalg.det(n_array))"
   ]
  },
  {
   "cell_type": "code",
   "execution_count": 17,
   "id": "f9634d96-57c2-47bd-abe9-ac3a5aaa40ef",
   "metadata": {},
   "outputs": [
    {
     "name": "stdout",
     "output_type": "stream",
     "text": [
      "Multiplication 1:\n",
      " [[16 19]\n",
      " [26 31]]\n",
      "Covariance 1:\n",
      " [[0.5 0.5]\n",
      " [0.5 0.5]]\n",
      "Multiplication 2:\n",
      " [[16 19  5]\n",
      " [26 31  8]\n",
      " [46 55 14]]\n",
      "Covariance 2:\n",
      " [[2.33333333 2.33333333]\n",
      " [2.33333333 2.33333333]]\n"
     ]
    }
   ],
   "source": [
    "p1 = np.array([[1, 2], [2, 3]])\n",
    "q1 = np.array([[4, 5], [6, 7]])\n",
    "print(\"Multiplication 1:\\n\", np.dot(p1, q1))\n",
    "print(\"Covariance 1:\\n\", np.cov(p1, rowvar=False))\n",
    "\n",
    "p2 = np.array([[1, 2], [2, 3], [4, 5]])\n",
    "q2 = np.array([[4, 5, 1], [6, 7, 2]])\n",
    "print(\"Multiplication 2:\\n\", np.dot(p2, q2))\n",
    "print(\"Covariance 2:\\n\", np.cov(p2, rowvar=False))"
   ]
  },
  {
   "cell_type": "code",
   "execution_count": 19,
   "id": "961d4b3b-7faa-4643-a43b-3b1c6b4a461c",
   "metadata": {},
   "outputs": [
    {
     "name": "stdout",
     "output_type": "stream",
     "text": [
      "Inner product:\n",
      " [[17 52]\n",
      " [13 62]]\n",
      "Outer product:\n",
      " [[ 2 10  0 10 20  6]\n",
      " [ 3 15  0 15 30  9]\n",
      " [ 4 20  0 20 40 12]\n",
      " [ 3 15  0 15 30  9]\n",
      " [ 2 10  0 10 20  6]\n",
      " [ 9 45  0 45 90 27]]\n",
      "Cartesian product:\n",
      "[[ 2  1]\n",
      " [ 2  5]\n",
      " [ 2  0]\n",
      " [ 2  5]\n",
      " [ 2 10]\n",
      " [ 2  3]\n",
      " [ 3  1]\n",
      " [ 3  5]\n",
      " [ 3  0]\n",
      " [ 3  5]\n",
      " [ 3 10]\n",
      " [ 3  3]\n",
      " [ 4  1]\n",
      " [ 4  5]\n",
      " [ 4  0]\n",
      " [ 4  5]\n",
      " [ 4 10]\n",
      " [ 4  3]\n",
      " [ 3  1]\n",
      " [ 3  5]\n",
      " [ 3  0]\n",
      " [ 3  5]\n",
      " [ 3 10]\n",
      " [ 3  3]\n",
      " [ 2  1]\n",
      " [ 2  5]\n",
      " [ 2  0]\n",
      " [ 2  5]\n",
      " [ 2 10]\n",
      " [ 2  3]\n",
      " [ 9  1]\n",
      " [ 9  5]\n",
      " [ 9  0]\n",
      " [ 9  5]\n",
      " [ 9 10]\n",
      " [ 9  3]]\n"
     ]
    }
   ],
   "source": [
    "x = np.array([[2, 3, 4], [3, 2, 9]])\n",
    "y = np.array([[1, 5, 0], [5, 10, 3]])\n",
    "print(\"Inner product:\\n\", np.inner(x, y))\n",
    "print(\"Outer product:\\n\", np.outer(x.flatten(), y.flatten()))\n",
    "\n",
    "from itertools import product\n",
    "print(\"Cartesian product:\")\n",
    "print(np.array(list(product(x.flatten(), y.flatten()))))"
   ]
  },
  {
   "cell_type": "code",
   "execution_count": 21,
   "id": "dfc38975-11ce-4552-9522-45d8fa11da07",
   "metadata": {},
   "outputs": [
    {
     "name": "stdout",
     "output_type": "stream",
     "text": [
      "Absolute:\n",
      " [[1 2 3]\n",
      " [4 5 6]]\n"
     ]
    }
   ],
   "source": [
    "array = np.array([[1, -2, 3], [-4, 5, -6]])\n",
    "print(\"Absolute:\\n\", np.abs(array))\n"
   ]
  },
  {
   "cell_type": "code",
   "execution_count": 23,
   "id": "950ffd6a-5670-4c2a-8643-b816d5dc4c33",
   "metadata": {},
   "outputs": [
    {
     "name": "stdout",
     "output_type": "stream",
     "text": [
      "Percentile 25, 50, 75 of flattened: [-3.5 -0.5  2.5]\n",
      "Percentiles per column:\n",
      " [[-2.75 -0.25 -3.75]\n",
      " [-1.5   1.5  -1.5 ]\n",
      " [-0.25  3.25  0.75]]\n",
      "Percentiles per row:\n",
      " [[-0.5 -5. ]\n",
      " [ 1.  -4. ]\n",
      " [ 2.   0.5]]\n"
     ]
    }
   ],
   "source": [
    "print(\"Percentile 25, 50, 75 of flattened:\", np.percentile(array, [25, 50, 75]))\n",
    "print(\"Percentiles per column:\\n\", np.percentile(array, [25, 50, 75], axis=0))\n",
    "print(\"Percentiles per row:\\n\", np.percentile(array, [25, 50, 75], axis=1))"
   ]
  },
  {
   "cell_type": "code",
   "execution_count": 25,
   "id": "331952c3-59e6-4f2d-9938-5d53050bf5a4",
   "metadata": {},
   "outputs": [
    {
     "name": "stdout",
     "output_type": "stream",
     "text": [
      "Mean (flattened): -0.5\n",
      "Mean (columns): [-1.5  1.5 -1.5]\n",
      "Mean (rows): [ 0.66666667 -1.66666667]\n"
     ]
    }
   ],
   "source": [
    "print(\"Mean (flattened):\", np.mean(array))\n",
    "print(\"Mean (columns):\", np.mean(array, axis=0))\n",
    "print(\"Mean (rows):\", np.mean(array, axis=1))"
   ]
  },
  {
   "cell_type": "code",
   "execution_count": 27,
   "id": "d84acc81-a80e-4f08-b90b-a08553b889ca",
   "metadata": {},
   "outputs": [
    {
     "name": "stdout",
     "output_type": "stream",
     "text": [
      "Median (flattened): -0.5\n",
      "Median (columns): [-1.5  1.5 -1.5]\n",
      "Median (rows): [ 1. -4.]\n",
      "Std Dev (flattened): 3.8622100754188224\n",
      "Std Dev (columns): [2.5 3.5 4.5]\n",
      "Std Dev (rows): [2.05480467 4.78423336]\n"
     ]
    }
   ],
   "source": [
    "print(\"Median (flattened):\", np.median(array))\n",
    "print(\"Median (columns):\", np.median(array, axis=0))\n",
    "print(\"Median (rows):\", np.median(array, axis=1))\n",
    "\n",
    "print(\"Std Dev (flattened):\", np.std(array))\n",
    "print(\"Std Dev (columns):\", np.std(array, axis=0))\n",
    "print(\"Std Dev (rows):\", np.std(array, axis=1))"
   ]
  },
  {
   "cell_type": "code",
   "execution_count": 30,
   "id": "f87df627-9e3a-42a4-8402-c1438e32ce96",
   "metadata": {},
   "outputs": [
    {
     "name": "stdout",
     "output_type": "stream",
     "text": [
      "Floor: [-2. -2. -1.  0.  1.  1.  3.]\n",
      "Ceil: [-1. -1. -0.  1.  2.  2.  3.]\n",
      "Trunc: [-1. -1. -0.  0.  1.  1.  3.]\n",
      "Rounded: [-2. -2. -0.  0.  2.  2.  3.]\n"
     ]
    }
   ],
   "source": [
    "a = np.array([-1.8, -1.6, -0.5, 0.5, 1.6, 1.8, 3.0])\n",
    "print(\"Floor:\", np.floor(a))\n",
    "print(\"Ceil:\", np.ceil(a))\n",
    "print(\"Trunc:\", np.trunc(a))\n",
    "print(\"Rounded:\", np.round(a))"
   ]
  },
  {
   "cell_type": "code",
   "execution_count": 32,
   "id": "65ce0af3-2fe9-4440-ad19-f947aeffb23f",
   "metadata": {},
   "outputs": [
    {
     "name": "stdout",
     "output_type": "stream",
     "text": [
      "Sorted: [ 10  16  16  52  54  62 453]\n",
      "Sorted indices: [0 3 4 1 5 2 6]\n",
      "4 Smallest: [10 16 16 52]\n",
      "5 Largest: [453  62  54  52  16]\n"
     ]
    }
   ],
   "source": [
    "array = np.array([10, 52, 62, 16, 16, 54, 453])\n",
    "print(\"Sorted:\", np.sort(array))\n",
    "print(\"Sorted indices:\", np.argsort(array))\n",
    "print(\"4 Smallest:\", np.sort(array)[:4])\n",
    "print(\"5 Largest:\", np.sort(array)[-5:][::-1])"
   ]
  },
  {
   "cell_type": "code",
   "execution_count": 34,
   "id": "0628b344-2155-43cb-b7ff-cd9002c5ff65",
   "metadata": {},
   "outputs": [
    {
     "name": "stdout",
     "output_type": "stream",
     "text": [
      "Integer values: [1. 2. 3. 2.]\n",
      "Float values: [1.2 2.2]\n"
     ]
    }
   ],
   "source": [
    "array = np.array([1.0, 1.2, 2.2, 2.0, 3.0, 2.0])\n",
    "print(\"Integer values:\", array[array == np.floor(array)])\n",
    "print(\"Float values:\", array[array != np.floor(array)])"
   ]
  },
  {
   "cell_type": "code",
   "execution_count": null,
   "id": "11161ba0-040d-492c-811d-6a405681709a",
   "metadata": {},
   "outputs": [],
   "source": []
  }
 ],
 "metadata": {
  "kernelspec": {
   "display_name": "Python [conda env:base] *",
   "language": "python",
   "name": "conda-base-py"
  },
  "language_info": {
   "codemirror_mode": {
    "name": "ipython",
    "version": 3
   },
   "file_extension": ".py",
   "mimetype": "text/x-python",
   "name": "python",
   "nbconvert_exporter": "python",
   "pygments_lexer": "ipython3",
   "version": "3.12.7"
  }
 },
 "nbformat": 4,
 "nbformat_minor": 5
}
