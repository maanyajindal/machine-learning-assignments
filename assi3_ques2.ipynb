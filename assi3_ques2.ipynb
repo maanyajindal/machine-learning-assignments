{
 "cells": [
  {
   "cell_type": "code",
   "execution_count": 3,
   "id": "c453437f-c42b-4051-8641-7b45550f457c",
   "metadata": {},
   "outputs": [],
   "source": [
    "import pandas as pd\n",
    "df = pd.read_csv(\"USA_Housing.csv\")"
   ]
  },
  {
   "cell_type": "code",
   "execution_count": 5,
   "id": "d713a8d0-a03a-4478-a777-4cdf98f27f38",
   "metadata": {},
   "outputs": [],
   "source": [
    "import numpy as np\n",
    "from sklearn.preprocessing import StandardScaler\n",
    "from sklearn.metrics import r2_score\n",
    "from sklearn.model_selection import train_test_split"
   ]
  },
  {
   "cell_type": "code",
   "execution_count": 7,
   "id": "fac322c8-3282-48f9-be20-3a0764dfd94a",
   "metadata": {},
   "outputs": [],
   "source": [
    "# Features and target\n",
    "X = df.drop(\"Price\", axis=1).values\n",
    "y = df[\"Price\"].values.reshape(-1, 1)\n",
    "\n",
    "# Scale features\n",
    "scaler = StandardScaler()\n",
    "X_scaled = scaler.fit_transform(X)"
   ]
  },
  {
   "cell_type": "code",
   "execution_count": null,
   "id": "a8c9d1d3-e71e-42d3-b750-f890c54f3e0d",
   "metadata": {},
   "outputs": [],
   "source": []
  },
  {
   "cell_type": "code",
   "execution_count": 9,
   "id": "6889a458-7506-4bed-9858-9efd96cbcc00",
   "metadata": {},
   "outputs": [
    {
     "name": "stdout",
     "output_type": "stream",
     "text": [
      "Learning Rate = 0.001: Validation R2 = 0.6451, Test R2 = 0.6537\n",
      "Learning Rate = 0.01: Validation R2 = 0.9200, Test R2 = 0.9134\n",
      "Learning Rate = 0.1: Validation R2 = 0.9200, Test R2 = 0.9134\n",
      "Learning Rate = 1: Validation R2 = -inf, Test R2 = -inf\n",
      "\n",
      "Best Learning Rate: 0.1\n",
      "Best Validation R2: 0.9199649194854793\n",
      "Corresponding Test R2: 0.9134494051887397\n"
     ]
    },
    {
     "name": "stderr",
     "output_type": "stream",
     "text": [
      "C:\\Users\\Dell\\anaconda3\\Lib\\site-packages\\sklearn\\metrics\\_regression.py:1005: RuntimeWarning: overflow encountered in square\n",
      "  numerator = (weight * (y_true - y_pred) ** 2).sum(axis=0, dtype=np.float64)\n",
      "C:\\Users\\Dell\\anaconda3\\Lib\\site-packages\\sklearn\\metrics\\_regression.py:1005: RuntimeWarning: overflow encountered in square\n",
      "  numerator = (weight * (y_true - y_pred) ** 2).sum(axis=0, dtype=np.float64)\n"
     ]
    }
   ],
   "source": [
    "\n",
    "\n",
    "# Step 2: Train-Validation-Test Split (56%-14%-30%)\n",
    "X_train, X_temp, y_train, y_temp = train_test_split(X_scaled, y, test_size=0.44, random_state=42)\n",
    "X_val, X_test, y_val, y_test = train_test_split(X_temp, y_temp, test_size=30/44, random_state=42)\n",
    "\n",
    "# Add bias column (intercept term)\n",
    "X_train_bias = np.c_[np.ones((X_train.shape[0], 1)), X_train]\n",
    "X_val_bias = np.c_[np.ones((X_val.shape[0], 1)), X_val]\n",
    "X_test_bias = np.c_[np.ones((X_test.shape[0], 1)), X_test]\n",
    "\n",
    "# Step 3: Gradient Descent function\n",
    "def gradient_descent(X, y, lr=0.01, iterations=1000):\n",
    "    m, n = X.shape\n",
    "    beta = np.zeros((n, 1))   # Initialize coefficients\n",
    "    for i in range(iterations):\n",
    "        gradients = (2/m) * X.T @ (X @ beta - y)\n",
    "        beta = beta - lr * gradients\n",
    "    return beta\n",
    "\n",
    "# Step 4: Try different learning rates\n",
    "learning_rates = [0.001, 0.01, 0.1, 1]\n",
    "results = {}\n",
    "\n",
    "for lr in learning_rates:\n",
    "    beta = gradient_descent(X_train_bias, y_train, lr=lr, iterations=1000)\n",
    "\n",
    "    # Predictions\n",
    "    y_val_pred = X_val_bias @ beta\n",
    "    y_test_pred = X_test_bias @ beta\n",
    "\n",
    "    # R2 Scores\n",
    "    val_r2 = r2_score(y_val, y_val_pred)\n",
    "    test_r2 = r2_score(y_test, y_test_pred)\n",
    "\n",
    "    results[lr] = {\"beta\": beta, \"val_r2\": val_r2, \"test_r2\": test_r2}\n",
    "    print(f\"Learning Rate = {lr}: Validation R2 = {val_r2:.4f}, Test R2 = {test_r2:.4f}\")\n",
    "\n",
    "# Step 5: Find best learning rate\n",
    "best_lr = max(results, key=lambda lr: results[lr][\"val_r2\"])\n",
    "print(\"\\nBest Learning Rate:\", best_lr)\n",
    "print(\"Best Validation R2:\", results[best_lr][\"val_r2\"])\n",
    "print(\"Corresponding Test R2:\", results[best_lr][\"test_r2\"])\n"
   ]
  },
  {
   "cell_type": "code",
   "execution_count": null,
   "id": "376c9dcf-3d83-4baf-96df-44f0b015aa1e",
   "metadata": {},
   "outputs": [],
   "source": []
  }
 ],
 "metadata": {
  "kernelspec": {
   "display_name": "Python [conda env:base] *",
   "language": "python",
   "name": "conda-base-py"
  },
  "language_info": {
   "codemirror_mode": {
    "name": "ipython",
    "version": 3
   },
   "file_extension": ".py",
   "mimetype": "text/x-python",
   "name": "python",
   "nbconvert_exporter": "python",
   "pygments_lexer": "ipython3",
   "version": "3.12.7"
  }
 },
 "nbformat": 4,
 "nbformat_minor": 5
}
